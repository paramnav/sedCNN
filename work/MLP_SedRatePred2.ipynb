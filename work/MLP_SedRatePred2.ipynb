{
 "cells": [
  {
   "cell_type": "markdown",
   "id": "72e47b90-6afc-4b1b-b845-3001aa39cd46",
   "metadata": {},
   "source": [
    "# Deep Neural networks/Multi-layer perceptrons for Sedimentation rate[cm/yr] predictions "
   ]
  },
  {
   "cell_type": "markdown",
   "id": "8ed67b10-df10-4399-9956-32363792dbcf",
   "metadata": {
    "tags": []
   },
   "source": [
    "## Train Neural Network"
   ]
  },
  {
   "cell_type": "markdown",
   "id": "c3e2cedf-d573-408a-b17c-fc919657753e",
   "metadata": {},
   "source": [
    "Here we would have three pipelines atleast: One for the regression, one for classification and one for bayesian neural network"
   ]
  },
  {
   "cell_type": "markdown",
   "id": "e650a80e-c396-417f-82e2-d20bd0ab3d76",
   "metadata": {
    "tags": []
   },
   "source": [
    "### Monte carlo dropout: regression"
   ]
  },
  {
   "cell_type": "code",
   "execution_count": 3,
   "id": "7a799e59-717d-4446-94f2-eefb756d7280",
   "metadata": {},
   "outputs": [
    {
     "name": "stderr",
     "output_type": "stream",
     "text": [
      "2022-10-20 12:05:48.081427: I tensorflow/compiler/jit/xla_cpu_device.cc:41] Not creating XLA devices, tf_xla_enable_xla_devices not set\n"
     ]
    }
   ],
   "source": [
    "from shapely.geometry import Point\n",
    "import geopandas as gpd\n",
    "from geopandas import GeoDataFrame\n",
    "from os import path, makedirs\n",
    "from pathlib import Path\n",
    "import pickle\n",
    "import numpy as np\n",
    "import pandas as pd\n",
    "from matplotlib import pyplot as plt\n",
    "import tensorflow as tf\n",
    "from tensorflow import keras\n",
    "from sklearn.model_selection import StratifiedKFold, KFold\n",
    "from sklearn.metrics import mean_squared_error, mean_absolute_error\n",
    "from sklearn.model_selection import train_test_split\n",
    "from sklearn.decomposition import PCA\n",
    "\n",
    "gpus = tf.config.experimental.list_physical_devices('GPU')\n",
    "if gpus:\n",
    "  try:\n",
    "    tf.config.experimental.set_virtual_device_configuration(\n",
    "        gpus[0],[tf.config.experimental.VirtualDeviceConfiguration(memory_limit=512)])\n",
    "  except RuntimeError as e:\n",
    "    print(e)\n",
    "\n",
    "#tf.config.experimental.set_memory_growth(physical_devices[0], True) # solves some GPU memory issues \n",
    "np.random.seed(42)\n",
    "tf.random.set_seed(42)\n",
    "\n",
    "#print(physical_devices)"
   ]
  },
  {
   "cell_type": "code",
   "execution_count": 4,
   "id": "3f0d784f-05c1-4c19-81d2-220f14870b9a",
   "metadata": {},
   "outputs": [
    {
     "name": "stdout",
     "output_type": "stream",
     "text": [
      "[False False False ... False False False]\n",
      "(2782, 1845)\n"
     ]
    }
   ],
   "source": [
    "feature_path = Path(Path() / \"SedFeaturesnoNAN_nolimit\")\n",
    "features = np.load(Path(feature_path / \"numpy_features.npy\"))\n",
    "labels = np.load(Path(feature_path / \"numpy_labebels.npy\"))\n",
    "X_mean = np.load(Path(feature_path / \"features_mean.npy\")).astype(float)\n",
    "X_std = np.load(Path(feature_path / \"features_std.npy\")).astype(float)\n",
    "#lat_labels = np.load(Path(feature_path / \"numpy_latitudes_labels.npy\")).astype(np.float)\n",
    "#lon_labels = np.load(Path(feature_path / \"numpy_longitudes_labels.npy\")).astype(np.float)\n",
    "\n",
    "\n",
    "#Norm Features\n",
    "features = np.divide((features - X_mean),X_std)\n",
    "\n",
    "with open(Path(feature_path / \"sorted_features.txt\"), \"rb\") as fp:\n",
    "    feature_names = pickle.load(fp)\n",
    "\n",
    "#feature_selection = pd.read_csv(Path(\"Selection_374_Chlor.csv\")).values\n",
    "# feature_selection = pd.read_csv(Path(\"restrepoHighResFeaturesRaw-50.txt\")).values\n",
    "\n",
    "\n",
    "#filter and clean features/labels\n",
    "#Features from list\n",
    "# selection_filter = np.zeros(features.shape[1], dtype=bool)\n",
    "# for idx, feature_name in enumerate(feature_names):\n",
    "#     if feature_name in feature_selection: # drop '.nc' from feature names #drop .grd\n",
    "#         selection_filter[idx] = True\n",
    "\n",
    "#Exclude Feature\n",
    "#selection_filter = np.ones(features.shape[1])\n",
    "# for idx, feature_name in enumerate(feature_names):\n",
    "#     if feature_name[:-3] == \"MY1DMM_CHLORA_2020-08-01\":\n",
    "#         selection_filter[idx] = 0\n",
    "\n",
    "# selection_filter = selection_filter.astype(bool)\n",
    "\n",
    "prediction_limit = 5000\n",
    "\n",
    "# features = features[:,selection_filter]\n",
    "features = features[labels<prediction_limit,:] #take only TOC < 5% \n",
    "# lat_labels = lat_labels[labels<prediction_limit]\n",
    "# lon_labels = lon_labels[labels<prediction_limit]\n",
    "labels = labels[labels<prediction_limit]\n",
    "# labels[labels>prediction_limit] = prediction_limit\n",
    "\n",
    "#Drop features with NaNs\n",
    "nan_rows = np.isnan(features).any(axis=0)\n",
    "np.save(\"FeatureNanRows\",nan_rows)\n",
    "features = features[:,~nan_rows]\n",
    "print(nan_rows)\n",
    "\n",
    "\n",
    "# #OR fill in NaNs with random\n",
    "# nan_fill = np.random.rand(features.shape[0],features.shape[1])*2-1\n",
    "# features[np.isnan(features)] = nan_fill[np.isnan(features)]\n",
    "\n",
    "# suffle features/labels\n",
    "shuffle_idx = np.random.mtrand.randint(low = 0, high = len(labels), size = len(labels))\n",
    "features = features[shuffle_idx,:]\n",
    "labels = labels[shuffle_idx]\n",
    "\n",
    "#features = encoded_features.numpy()\n",
    "print(features.shape)\n",
    "\n",
    "\n",
    "# # #PCA\n",
    "# pca = PCA (0.95) #95% of the variance is retained\n",
    "# pca.fit(features)\n",
    "# features = pca.transform(features)\n",
    "# print(features.shape)\n",
    "\n",
    "#taking the log of labels so that the order of maginitude between deep oceans and the coasts is reduced\n",
    "#loglabels=np.log10(labels)\n",
    "\n",
    "model = [None]*10\n",
    "MAE = []\n",
    "corrcoef = []\n",
    "kf = KFold(n_splits=10)\n",
    "mc_samples = 50\n"
   ]
  },
  {
   "cell_type": "code",
   "execution_count": 10,
   "id": "043b26e0-d497-409b-bc7a-9d37ea7e5cab",
   "metadata": {},
   "outputs": [],
   "source": [
    "#features = encoded_features.numpy()\n",
    "#early stopping and LR-scheduling callbacks\n",
    "#checkpoint_cb = keras.callbacks.ModelCheckpoint('TOC_nn.h5', save_best_only = True)\n",
    "early_stopping_cb = keras.callbacks.EarlyStopping(monitor = \"loss\", patience = 200, restore_best_weights = True)\n",
    "lr_scheduler = keras.callbacks.ReduceLROnPlateau(monitor = \"loss\", factor = 0.8, patience = 40, min_lr = 0.000001)\n",
    "do_rate = 0.2\n",
    "num_nodes = 50\n",
    "    \n",
    "model_seed = keras.models.Sequential()\n",
    "model_seed.add(keras.layers.Dense(num_nodes, activation = \"relu\", kernel_initializer = \"he_normal\"))\n",
    "model_seed.add(keras.layers.BatchNormalization())\n",
    "#model_seed.add(keras.layers.Dropout(do_rate))\n",
    "model_seed.add(keras.layers.Dense(num_nodes, activation = \"relu\", kernel_initializer = \"he_normal\"))\n",
    "model_seed.add(keras.layers.BatchNormalization())\n",
    "#model_seed.add(keras.layers.Dropout(do_rate))\n",
    "model_seed.add(keras.layers.Dense(num_nodes, activation = \"relu\", kernel_initializer = \"he_normal\"))\n",
    "model_seed.add(keras.layers.BatchNormalization())\n",
    "#model_seed.add(keras.layers.Dropout(do_rate))\n",
    "model_seed.add(keras.layers.Dense(num_nodes, activation = \"relu\", kernel_initializer = \"he_normal\"))\n",
    "model_seed.add(keras.layers.BatchNormalization())\n",
    "#model_seed.add(keras.layers.Dropout(do_rate))\n",
    "model_seed.add(keras.layers.Dense(num_nodes, activation = \"relu\", kernel_initializer = \"he_normal\"))\n",
    "model_seed.add(keras.layers.BatchNormalization())\n",
    "#model_seed.add(keras.layers.Dropout(do_rate))\n",
    "model_seed.add(keras.layers.Dense(num_nodes, activation = \"relu\", kernel_initializer = \"he_normal\"))\n",
    "model_seed.add(keras.layers.BatchNormalization())\n",
    "#model_seed.add(keras.layers.Dropout(do_rate))\n",
    "\n",
    "\n",
    "\n",
    "\n",
    "model_seed.add(keras.layers.Dense(num_nodes, activation = \"relu\", kernel_initializer = \"he_normal\"))\n",
    "\n",
    "\n",
    "\n",
    "\n",
    "\n",
    "model_seed.add(keras.layers.Dense(1, activation = \"relu\"))\n",
    "\n",
    "model_seed.build([None,features.shape[1]])\n"
   ]
  },
  {
   "cell_type": "code",
   "execution_count": null,
   "id": "04538ab4-ade4-401c-8e5d-f1dcf136585e",
   "metadata": {
    "scrolled": true,
    "tags": []
   },
   "outputs": [],
   "source": [
    "\n",
    "#%%timeit -n 1 -r 1\n",
    "#fold = 0\n",
    "#for train, test in kf.split(features, labels): #startification/10fold\n",
    "features_train, features_test, labels_train, labels_test = train_test_split(features, labels, test_size=0.20, random_state=1)    \n",
    "#print(\"computing fold \" + str(fold+1))\n",
    "\n",
    "\n",
    "\n",
    "\n",
    "model = keras.models.clone_model(model_seed)\n",
    "model.set_weights(model_seed.get_weights())\n",
    "model.compile(loss = \"mean_absolute_error\",\n",
    "             optimizer = keras.optimizers.Nadam(learning_rate = 0.01),\n",
    "             metrics = [[\"RootMeanSquaredError\"]])\n",
    " \n",
    "#Final run with early stopping callback\n",
    "print(\"running main training round\")\n",
    " \n",
    " \n",
    "history = model.fit(features_train, labels_train,  epochs = 10000, batch_size= 70, \n",
    "                      callbacks = [ early_stopping_cb,lr_scheduler],verbose =2,validation_split=0.2)#\n",
    " "
   ]
  },
  {
   "cell_type": "code",
   "execution_count": 25,
   "id": "1390a82c-ff53-40ef-8c08-a539c377d464",
   "metadata": {
    "scrolled": true,
    "tags": []
   },
   "outputs": [
    {
     "name": "stdout",
     "output_type": "stream",
     "text": [
      "test MAE:[92.40137333960874, 99.12897195408404, 99.12897195408404]\n",
      "test correlation coeficient:[0.7396501054759339, 0.6654294821758706, 0.6654294821758706]\n",
      "     ----     \n"
     ]
    }
   ],
   "source": [
    "#MC Dropout\n",
    "probs_stack = np.stack([model(features_test,training = True) for sample in range(mc_samples)]) \n",
    "probs_stack = probs_stack.reshape([probs_stack.shape[0],probs_stack.shape[1]])\n",
    "np.savetxt(\"probs_stack_regression.txt\", probs_stack.T)\n",
    "np.savetxt(\"labels_test_regression.txt\", labels_test)\n",
    "predictions = tf.squeeze(probs_stack.mean(axis = 0))\n",
    "np.savetxt(\"predictions_regression.txt\", predictions)\n",
    "corrcoef.append(np.corrcoef(predictions, labels_test)[0,1])\n",
    "MAE.append(mean_absolute_error(labels_test,predictions))\n",
    " \n",
    "history_df = pd.DataFrame(history.history)#\n",
    "#print(history_df)\n",
    "#print(\"best val accuracy: \" + str(np.max(history_df.val_accuracy)))\n",
    "print(\"test MAE:\" + str(MAE))\n",
    "print(\"test correlation coeficient:\" + str(corrcoef))\n",
    "print(\"     ----     \")\n",
    "#fold = fold+1"
   ]
  },
  {
   "cell_type": "code",
   "execution_count": 24,
   "id": "873ada65-ee9d-4aa2-900b-e6b472dbe7c5",
   "metadata": {},
   "outputs": [
    {
     "data": {
      "text/plain": [
       "(2782, 100)"
      ]
     },
     "execution_count": 24,
     "metadata": {},
     "output_type": "execute_result"
    }
   ],
   "source": [
    "features.shape"
   ]
  },
  {
   "cell_type": "code",
   "execution_count": 23,
   "id": "68ad15b8-8fa0-4cf3-bddb-7e78e4af04f4",
   "metadata": {},
   "outputs": [
    {
     "name": "stdout",
     "output_type": "stream",
     "text": [
      "Correlation Coefficient: 0.7025397938259023\n",
      "MAE: 95.7651726468464\n",
      "0.6654294821758706\n",
      "(2782,)\n",
      "(557,)\n"
     ]
    },
    {
     "data": {
      "image/png": "[encoded data removed]",
      "text/plain": [
       "<Figure size 1296x360 with 3 Axes>"
      ]
     },
     "metadata": {
      "needs_background": "light"
     },
     "output_type": "display_data"
    },
    {
     "data": {
      "image/png": "[encoded data removed]",
      "text/plain": [
       "<Figure size 576x576 with 1 Axes>"
      ]
     },
     "metadata": {
      "needs_background": "light"
     },
     "output_type": "display_data"
    }
   ],
   "source": [
    "history_df = pd.DataFrame(history.history)\n",
    "plt.figure(figsize=[18,5])\n",
    "plt.subplot(131)\n",
    "plt.plot(history_df.root_mean_squared_error)\n",
    "plt.plot(history_df.val_root_mean_squared_error)\n",
    "plt.legend([\"training rmse\", \"validation rmse\"])\n",
    "#plt.ylim([100,4000])\n",
    "plt.subplot(132)\n",
    "plt.plot(history_df.loss)\n",
    "plt.plot(history_df.val_loss)\n",
    "plt.legend([\"training loss\", \"validation loss\"])\n",
    "#plt.ylim([20,400])\n",
    "plt.subplot(133)\n",
    "plt.plot(history_df.lr)\n",
    "plt.legend([\"learning rate\"])\n",
    "\n",
    "print(\"Correlation Coefficient: \"+str(np.sum(corrcoef)/len(corrcoef)))\n",
    "print(\"MAE: \" +str(np.sum(MAE)/len(MAE)))\n",
    "\n",
    "\n",
    "plt.figure(figsize=[8,8])\n",
    "#plt.clf()\n",
    "plt.scatter(predictions,labels_test)\n",
    "x = np.linspace(0,4000)\n",
    "plt.plot(x, x, 'r')\n",
    "plt.xlabel(\"Predicted (cm/ka)\")\n",
    "plt.ylabel(\"Observed (cm/ka)\")\n",
    "print(np.corrcoef(predictions,labels_test)[0,1])\n",
    "\n",
    "dirname = Path(\"Sed_regresion_083_RestrepoFeats_AllVS0.2_Test\")\n",
    "if not path.isdir(dirname):\n",
    "    makedirs(dirname)\n",
    " \n",
    "# for idx, model in enumerate(model):\n",
    "model_name = \"Model_nolimitnonan_Test\"  + \".h5\"\n",
    "model.save(Path(dirname / model_name))\n",
    "    \n",
    "print(labels.shape)\n",
    "print(labels_test.shape)\n",
    "\n",
    "#error=[]\n",
    "#error = np.abs(model.predict(features[:,:])[:,0]-labels)\n",
    "#error = np.array(error)\n",
    "\n",
    "#world = gpd.read_file(gpd.datasets.get_path('naturalearth_lowres'))\n",
    "#df = pd.DataFrame({'Latitude': lat_labels, 'Longitude':lon_labels, 'Error': error})\n",
    "#geometry = [Point(xy) for xy in zip(df['Longitude'], df['Latitude'])]\n",
    "#gdf = GeoDataFrame(df, geometry=geometry)  \n",
    "#gdf.plot(ax = world.plot(figsize = (20, 12)), column = df[\"Error\"],legend = True, legend_kwds={\"label\":\"{error in prediction}\"});\n",
    "\n",
    "\n",
    "#execfile(\"Make_Global_Predictions_regression.py\")\n",
    "\n"
   ]
  },
  {
   "cell_type": "markdown",
   "id": "39b04b9c-17ea-4d82-82d6-e5c261b31049",
   "metadata": {},
   "source": [
    "## Regression"
   ]
  },
  {
   "cell_type": "code",
   "execution_count": 14,
   "id": "a84087b5-45bd-4e3b-b543-b4e82a1b1173",
   "metadata": {
    "scrolled": true,
    "tags": []
   },
   "outputs": [],
   "source": [
    "#%%timeit -n 1 -r 1\n",
    "#fold = 0\n",
    "#for train, test in kf.split(features, labels): #startification/10fold\n",
    "features_train, features_test, labels_train, labels_test = train_test_split(features, labels, test_size=0.20, random_state=1)    \n",
    "#print(\"computing fold \" + str(fold+1))"
   ]
  },
  {
   "cell_type": "code",
   "execution_count": 27,
   "id": "8ba0df44-a64e-472d-9480-24321776d071",
   "metadata": {
    "scrolled": true,
    "tags": []
   },
   "outputs": [
    {
     "data": {
      "text/plain": [
       "(2782, 100)"
      ]
     },
     "execution_count": 27,
     "metadata": {},
     "output_type": "execute_result"
    }
   ],
   "source": [
    "from sklearn.linear_model import LinearRegression\n",
    "\n",
    "reg = LinearRegression().fit(features_train, labels_train)\n",
    "features.shape"
   ]
  },
  {
   "cell_type": "code",
   "execution_count": 28,
   "id": "d701fafb-8a7a-4bcd-8749-7b1874c62934",
   "metadata": {},
   "outputs": [
    {
     "name": "stdout",
     "output_type": "stream",
     "text": [
      "(557,)\n",
      "(557, 100)\n",
      "0.600710403688208\n"
     ]
    },
    {
     "data": {
      "image/png": "[encoded data removed]",
      "text/plain": [
       "<Figure size 576x576 with 1 Axes>"
      ]
     },
     "metadata": {
      "needs_background": "light"
     },
     "output_type": "display_data"
    }
   ],
   "source": [
    "print(reg.predict(features_test).shape)\n",
    "print(features_test.shape)\n",
    "plt.figure(figsize=[8,8])\n",
    "plt.scatter(reg.predict(features_test), labels_test)\n",
    "plt.title(\"Regression\")\n",
    "plt.xlabel(\"Predicted test values\")\n",
    "plt.ylabel(\"True test values\")\n",
    "x = np.linspace(0,4000)\n",
    "plt.plot(x, x, 'r')\n",
    "print(np.corrcoef(reg.predict(features_test), labels_test)[0,1])"
   ]
  },
  {
   "cell_type": "markdown",
   "id": "a339ffab-f658-497b-ba95-9a07d5e8a55f",
   "metadata": {},
   "source": [
    "## Auto encoder"
   ]
  },
  {
   "cell_type": "code",
   "execution_count": 5,
   "id": "fd2f239a-2caf-48db-9474-0e2a7763d0d2",
   "metadata": {},
   "outputs": [],
   "source": [
    "import matplotlib.pyplot as plt\n",
    "import numpy as np\n",
    "import tensorflow as tf\n",
    "from tensorflow.keras.models import Model, Sequential\n",
    "from tensorflow.keras.layers import Dense\n",
    "import pandas as pd\n",
    "import random\n",
    "from sklearn.preprocessing import StandardScaler"
   ]
  },
  {
   "cell_type": "code",
   "execution_count": 6,
   "id": "dc2beca9-8d4b-4f06-8b5c-b91deb4b302e",
   "metadata": {},
   "outputs": [
    {
     "data": {
      "text/plain": [
       "(2782, 1845)"
      ]
     },
     "execution_count": 6,
     "metadata": {},
     "output_type": "execute_result"
    }
   ],
   "source": [
    "features.shape"
   ]
  },
  {
   "cell_type": "code",
   "execution_count": 7,
   "id": "8b036cf8-bc4a-4af7-a279-5dd675cbb30f",
   "metadata": {},
   "outputs": [
    {
     "name": "stderr",
     "output_type": "stream",
     "text": [
      "2022-10-20 12:06:06.779766: I tensorflow/core/platform/cpu_feature_guard.cc:142] This TensorFlow binary is optimized with oneAPI Deep Neural Network Library (oneDNN) to use the following CPU instructions in performance-critical operations:  SSE4.1 SSE4.2 AVX AVX2 AVX512F FMA\n",
      "To enable them in other operations, rebuild TensorFlow with the appropriate compiler flags.\n",
      "2022-10-20 12:06:06.781110: I tensorflow/core/common_runtime/process_util.cc:146] Creating new thread pool with default inter op setting: 2. Tune using inter_op_parallelism_threads for best performance.\n"
     ]
    }
   ],
   "source": [
    "# This is the dimension of the original space\n",
    "input_dim = features.shape[1]\n",
    "\n",
    "# This is the dimension of the latent space (encoding space)\n",
    "latent_dim = 1\n",
    "\n",
    "encoder = Sequential([\n",
    "    Dense(1000, activation='relu', input_shape=(input_dim,)),\n",
    "    Dense(700, activation='relu'),\n",
    "    Dense(400, activation='relu'),\n",
    "    Dense(200, activation='relu'),\n",
    "    Dense(100, activation='relu'),\n",
    "    Dense(50, activation='relu'),\n",
    "    Dense(latent_dim, activation='relu')\n",
    "])\n",
    "\n",
    "decoder = Sequential([\n",
    "    Dense(50, activation='relu', input_shape=(latent_dim,)),\n",
    "    Dense(100, activation='relu'),\n",
    "    Dense(200, activation='relu'),\n",
    "    Dense(400, activation='relu'),\n",
    "    Dense(700, activation='relu'),\n",
    "    Dense(1000, activation='relu'),\n",
    "    Dense(input_dim, activation=None)\n",
    "])"
   ]
  },
  {
   "cell_type": "code",
   "execution_count": 8,
   "id": "6ad7691a-e0f1-4078-8643-6ae5abd61bea",
   "metadata": {},
   "outputs": [],
   "source": [
    "autoencoder = Model(inputs=encoder.input, outputs=decoder(encoder.output))\n",
    "autoencoder.compile(loss='mse', optimizer='adam')"
   ]
  },
  {
   "cell_type": "code",
   "execution_count": null,
   "id": "3e7594e9-018d-43e2-bc38-99c6d2569f1c",
   "metadata": {
    "scrolled": true,
    "tags": []
   },
   "outputs": [],
   "source": [
    "model_history = autoencoder.fit(features, features, epochs=1000, batch_size=70, callbacks = [ early_stopping_cb,lr_scheduler],verbose =2)\n",
    "\n",
    "plt.plot(model_history.history[\"loss\"])\n",
    "plt.title(\"Loss vs. Epoch\")\n",
    "plt.ylabel(\"Loss\")\n",
    "plt.xlabel(\"Epoch\")\n",
    "plt.grid(True)"
   ]
  },
  {
   "cell_type": "code",
   "execution_count": 13,
   "id": "24ea1e91-3018-4441-a18e-5ff3e11c299a",
   "metadata": {},
   "outputs": [
    {
     "ename": "NameError",
     "evalue": "name 'features_train' is not defined",
     "output_type": "error",
     "traceback": [
      "\u001b[0;31m---------------------------------------------------------------------------\u001b[0m",
      "\u001b[0;31mNameError\u001b[0m                                 Traceback (most recent call last)",
      "Input \u001b[0;32mIn [13]\u001b[0m, in \u001b[0;36m<cell line: 1>\u001b[0;34m()\u001b[0m\n\u001b[0;32m----> 1\u001b[0m model_history \u001b[38;5;241m=\u001b[39m encoder\u001b[38;5;241m.\u001b[39mfit(\u001b[43mfeatures_train\u001b[49m, labels_train, epochs\u001b[38;5;241m=\u001b[39m\u001b[38;5;241m1000\u001b[39m, batch_size\u001b[38;5;241m=\u001b[39m\u001b[38;5;241m70\u001b[39m, callbacks \u001b[38;5;241m=\u001b[39m [ early_stopping_cb,lr_scheduler],verbose \u001b[38;5;241m=\u001b[39m\u001b[38;5;241m2\u001b[39m)\n\u001b[1;32m      3\u001b[0m plt\u001b[38;5;241m.\u001b[39mplot(model_history\u001b[38;5;241m.\u001b[39mhistory[\u001b[38;5;124m\"\u001b[39m\u001b[38;5;124mloss\u001b[39m\u001b[38;5;124m\"\u001b[39m])\n\u001b[1;32m      4\u001b[0m plt\u001b[38;5;241m.\u001b[39mtitle(\u001b[38;5;124m\"\u001b[39m\u001b[38;5;124mLoss vs. Epoch\u001b[39m\u001b[38;5;124m\"\u001b[39m)\n",
      "\u001b[0;31mNameError\u001b[0m: name 'features_train' is not defined"
     ]
    }
   ],
   "source": []
  },
  {
   "cell_type": "code",
   "execution_count": 18,
   "id": "4b9e8199-ceae-4dc2-8759-3864a2f4f099",
   "metadata": {},
   "outputs": [
    {
     "data": {
      "text/plain": [
       "Text(0, 0.5, 'Latent Dimension 2')"
      ]
     },
     "execution_count": 18,
     "metadata": {},
     "output_type": "execute_result"
    },
    {
     "data": {
      "image/png": "[encoded data removed]",
      "text/plain": [
       "<Figure size 432x432 with 1 Axes>"
      ]
     },
     "metadata": {
      "needs_background": "light"
     },
     "output_type": "display_data"
    }
   ],
   "source": [
    "encoded_features = encoder(features)\n",
    "plt.figure(figsize=(6,6))\n",
    "plt.scatter(encoded_features[:, 44], encoded_features[:, 9], alpha=.5)\n",
    "plt.xlabel('Latent Dimension 1')\n",
    "plt.ylabel('Latent Dimension 2')"
   ]
  },
  {
   "cell_type": "code",
   "execution_count": 12,
   "id": "8bdabf2a-a585-41ed-9ce0-26a4ec76441a",
   "metadata": {},
   "outputs": [
    {
     "data": {
      "text/plain": [
       "949.6636639737894"
      ]
     },
     "execution_count": 12,
     "metadata": {},
     "output_type": "execute_result"
    }
   ],
   "source": [
    "np.linalg.norm(features - autoencoder(features).numpy())"
   ]
  },
  {
   "cell_type": "markdown",
   "id": "71dafdf3-f377-4670-90ef-623cb4f272e6",
   "metadata": {},
   "source": [
    "## Encoder\n",
    "If we make the latent dimension to one, then we can train the autoencoder with the features alone and then finettune the encoder to give us sedimentation rates.\n",
    "\n",
    "Problem: As we keep decreasing the latent dimension, the model is difficult to fit. Hence thee weights that were set in the encoder during the training of the autoencoder is not great. When the mdoel is fine tuned with the training data then the data does not fit well, when compared to training an entire network. "
   ]
  },
  {
   "cell_type": "code",
   "execution_count": null,
   "id": "bbe9d0e7-d9ae-4039-8cb3-da1412b9574f",
   "metadata": {},
   "outputs": [],
   "source": [
    "encoder.save(\"encoder.h5\")\n",
    "autoencoder.save(\"autoencoder.h5\")"
   ]
  },
  {
   "cell_type": "code",
   "execution_count": 87,
   "id": "afe2964c-7cb9-4a1c-9e6d-67bd74063bf0",
   "metadata": {},
   "outputs": [
    {
     "name": "stdout",
     "output_type": "stream",
     "text": [
      "WARNING:tensorflow:No training configuration found in the save file, so the model was *not* compiled. Compile it manually.\n"
     ]
    }
   ],
   "source": [
    "from tensorflow import keras\n",
    "new_encoder = keras.models.load_model(\"encoder.h5\")"
   ]
  },
  {
   "cell_type": "code",
   "execution_count": 88,
   "id": "da5342e6-4cf3-4afb-82d5-510d1d7be5bf",
   "metadata": {},
   "outputs": [
    {
     "data": {
      "text/plain": [
       "949.6636639737894"
      ]
     },
     "execution_count": 88,
     "metadata": {},
     "output_type": "execute_result"
    }
   ],
   "source": [
    "new_autoencoder = keras.models.load_model(\"autoencoder.h5\")\n",
    "np.linalg.norm(features - new_autoencoder(features).numpy())"
   ]
  },
  {
   "cell_type": "code",
   "execution_count": 89,
   "id": "6bb73db3-e0eb-4bf5-b770-9232d3eb4a5c",
   "metadata": {
    "scrolled": true,
    "tags": []
   },
   "outputs": [
    {
     "data": {
      "text/plain": [
       "[<tensorflow.python.keras.engine.input_layer.InputLayer at 0x150ecdbcffa0>,\n",
       " <tensorflow.python.keras.layers.core.Dense at 0x150ecdbcb8b0>,\n",
       " <tensorflow.python.keras.layers.core.Dense at 0x150ecdbcb8e0>,\n",
       " <tensorflow.python.keras.layers.core.Dense at 0x150ecdbcb100>,\n",
       " <tensorflow.python.keras.layers.core.Dense at 0x150ecdbcf490>,\n",
       " <tensorflow.python.keras.layers.core.Dense at 0x150ecdbcf0a0>,\n",
       " <tensorflow.python.keras.layers.core.Dense at 0x150ecdbd2400>,\n",
       " <tensorflow.python.keras.layers.core.Dense at 0x150ecdbd27c0>,\n",
       " <tensorflow.python.keras.engine.sequential.Sequential at 0x150ecdbcbee0>]"
      ]
     },
     "execution_count": 89,
     "metadata": {},
     "output_type": "execute_result"
    }
   ],
   "source": [
    "new_autoencoder.layers"
   ]
  },
  {
   "cell_type": "code",
   "execution_count": 90,
   "id": "5cb42306-01df-43c8-9d2d-bd90ed3d31b4",
   "metadata": {},
   "outputs": [],
   "source": [
    "weights_list = new_autoencoder.weights\n",
    "for i in range(0,14,2):\n",
    "    l = []\n",
    "    x = weights_list[i].numpy()\n",
    "    y = weights_list[i+1].numpy()\n",
    "    l.append(x)\n",
    "    l.append(y)\n",
    "    new_encoder.layers[int(i/2)].set_weights(l)\n"
   ]
  },
  {
   "cell_type": "code",
   "execution_count": 91,
   "id": "82dfdcd2-0fec-49c5-a886-3aedf2b9cf6b",
   "metadata": {},
   "outputs": [
    {
     "data": {
      "text/plain": [
       "[<tensorflow.python.keras.layers.core.Dense at 0x150ecdc234c0>,\n",
       " <tensorflow.python.keras.layers.core.Dense at 0x150ecdc23c10>,\n",
       " <tensorflow.python.keras.layers.core.Dense at 0x150ee1a3aa00>,\n",
       " <tensorflow.python.keras.layers.core.Dense at 0x150ecdbc3ee0>,\n",
       " <tensorflow.python.keras.layers.core.Dense at 0x150ecdbc5e80>,\n",
       " <tensorflow.python.keras.layers.core.Dense at 0x150ecdbc8f70>,\n",
       " <tensorflow.python.keras.layers.core.Dense at 0x150ecdbcb040>]"
      ]
     },
     "execution_count": 91,
     "metadata": {},
     "output_type": "execute_result"
    }
   ],
   "source": [
    "new_encoder.layers"
   ]
  },
  {
   "cell_type": "code",
   "execution_count": 92,
   "id": "7f626795-3dce-49e8-8b1c-49b3f079627c",
   "metadata": {},
   "outputs": [
    {
     "data": {
      "text/plain": [
       "TensorShape([2225, 1])"
      ]
     },
     "execution_count": 92,
     "metadata": {},
     "output_type": "execute_result"
    }
   ],
   "source": [
    "new_encoder(features_train).shape"
   ]
  },
  {
   "cell_type": "code",
   "execution_count": 93,
   "id": "051b750c-a19a-499b-891a-1100986ad7aa",
   "metadata": {
    "scrolled": true,
    "tags": []
   },
   "outputs": [],
   "source": [
    "new_encoder.compile(loss='mse', optimizer=\"adam\")\n",
    "new_model_history = new_encoder.fit(features_train, labels_train, epochs=1000, batch_size=70, callbacks = [ early_stopping_cb,lr_scheduler],verbose =2)"
   ]
  },
  {
   "cell_type": "code",
   "execution_count": 94,
   "id": "cf26f165-4898-41fa-81b6-8cc972f1d572",
   "metadata": {
    "scrolled": true,
    "tags": []
   },
   "outputs": [
    {
     "data": {
      "image/png": "[encoded data removed]",
      "text/plain": [
       "<Figure size 432x288 with 1 Axes>"
      ]
     },
     "metadata": {
      "needs_background": "light"
     },
     "output_type": "display_data"
    }
   ],
   "source": [
    "plt.plot(new_model_history.history[\"loss\"])\n",
    "plt.title(\"Loss vs. Epoch\")\n",
    "plt.ylabel(\"Loss\")\n",
    "plt.xlabel(\"Epoch\")\n",
    "plt.grid(True)"
   ]
  },
  {
   "cell_type": "code",
   "execution_count": 103,
   "id": "03659b6b-c422-4e8c-8c98-daee4ff751f3",
   "metadata": {},
   "outputs": [],
   "source": [
    "predictions = new_encoder(features_test)\n",
    "predictions = predictions.numpy().flatten()"
   ]
  },
  {
   "cell_type": "code",
   "execution_count": 106,
   "id": "6ce81a28-1a4b-47f2-8f96-e3bc89bc0ec5",
   "metadata": {},
   "outputs": [
    {
     "name": "stdout",
     "output_type": "stream",
     "text": [
      "0.6640683838913086\n",
      "(2782,)\n",
      "(557,)\n"
     ]
    },
    {
     "data": {
      "image/png": "[encoded data removed]",
      "text/plain": [
       "<Figure size 576x576 with 1 Axes>"
      ]
     },
     "metadata": {
      "needs_background": "light"
     },
     "output_type": "display_data"
    }
   ],
   "source": [
    "plt.figure(figsize=[8,8])\n",
    "#plt.clf()\n",
    "plt.scatter(predictions,labels_test)\n",
    "x = np.linspace(0,4000)\n",
    "plt.plot(x, x, 'r')\n",
    "plt.xlabel(\"Predicted (cm/ka)\")\n",
    "plt.ylabel(\"Observed (cm/ka)\")\n",
    "print(np.corrcoef(predictions,labels_test)[0,1])\n",
    "\n",
    "\n",
    "\n",
    "    \n",
    "print(labels.shape)\n",
    "print(labels_test.shape)\n"
   ]
  }
 ],
 "metadata": {
  "kernelspec": {
   "display_name": "Python 3 (ipykernel)",
   "language": "python",
   "name": "python3"
  },
  "language_info": {
   "codemirror_mode": {
    "name": "ipython",
    "version": 3
   },
   "file_extension": ".py",
   "mimetype": "text/x-python",
   "name": "python",
   "nbconvert_exporter": "python",
   "pygments_lexer": "ipython3",
   "version": "3.9.12"
  }
 },
 "nbformat": 4,
 "nbformat_minor": 5
}
