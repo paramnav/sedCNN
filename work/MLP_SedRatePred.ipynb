{
 "cells": [
  {
   "cell_type": "markdown",
   "id": "72e47b90-6afc-4b1b-b845-3001aa39cd46",
   "metadata": {
    "tags": []
   },
   "source": [
    "# Deep Neural networks/Multi-layer perceptrons for Sedimentation rate[cm/yr] predictions "
   ]
  },
  {
   "cell_type": "markdown",
   "id": "8ed67b10-df10-4399-9956-32363792dbcf",
   "metadata": {
    "tags": []
   },
   "source": [
    "## Train Neural Network"
   ]
  },
  {
   "cell_type": "markdown",
   "id": "c3e2cedf-d573-408a-b17c-fc919657753e",
   "metadata": {},
   "source": [
    "The jupyter notebook shows predictions from a neural network(tensorflow) and a linear regression model(sci-kit). \n",
    "\n",
    "Note: the jupyter notebook is not runnable from here. Requires the data. Here is just an example of a run of the code. "
   ]
  },
  {
   "cell_type": "markdown",
   "id": "e650a80e-c396-417f-82e2-d20bd0ab3d76",
   "metadata": {
    "tags": []
   },
   "source": [
    "### Multi-layer Perceptron"
   ]
  },
  {
   "cell_type": "code",
   "execution_count": 1,
   "id": "7a799e59-717d-4446-94f2-eefb756d7280",
   "metadata": {},
   "outputs": [
    {
     "name": "stderr",
     "output_type": "stream",
     "text": [
      "2022-10-19 15:49:03.040937: I tensorflow/compiler/jit/xla_cpu_device.cc:41] Not creating XLA devices, tf_xla_enable_xla_devices not set\n"
     ]
    }
   ],
   "source": [
    "from shapely.geometry import Point\n",
    "import geopandas as gpd\n",
    "from geopandas import GeoDataFrame\n",
    "from os import path, makedirs\n",
    "from pathlib import Path\n",
    "import pickle\n",
    "import numpy as np\n",
    "import pandas as pd\n",
    "from matplotlib import pyplot as plt\n",
    "import tensorflow as tf\n",
    "from tensorflow import keras\n",
    "from sklearn.model_selection import StratifiedKFold, KFold\n",
    "from sklearn.metrics import mean_squared_error, mean_absolute_error\n",
    "from sklearn.model_selection import train_test_split\n",
    "from sklearn.decomposition import PCA\n",
    "\n",
    "gpus = tf.config.experimental.list_physical_devices('GPU')\n",
    "if gpus:\n",
    "  try:\n",
    "    tf.config.experimental.set_virtual_device_configuration(\n",
    "        gpus[0],[tf.config.experimental.VirtualDeviceConfiguration(memory_limit=512)])\n",
    "  except RuntimeError as e:\n",
    "    print(e)\n",
    "\n",
    "#tf.config.experimental.set_memory_growth(physical_devices[0], True) # solves some GPU memory issues \n",
    "np.random.seed(42)\n",
    "tf.random.set_seed(42)\n",
    "\n",
    "#print(physical_devices)"
   ]
  },
  {
   "cell_type": "markdown",
   "id": "6647b2d1-e285-4c86-8a19-430ba94a6cf6",
   "metadata": {},
   "source": [
    "**Load data** and pre-processing.\n",
    "\n",
    "THe feature data has been interpolated using nearest neighbour algorithm to interpolate nan values. In total, we have around 1850 features. \n",
    "\n",
    "### **To note: Some features are also averaged over r1000km, r500km, r250km, r100km and r50km. If these are excluded, then the number of features drop down to less than 200.**\n",
    "\n",
    "But here we also take the averaged feature, since it helps acquiring the neighbourhood data, which the predictions or the sedimentation rates might depend on. \n",
    "\n",
    "Since the **dimensions are too high**, and probably the neural network might find it difficult to learn, we try to use some **dimensionality reduction methods, such as PCA, and using a auto encoder**. \n",
    "\n",
    "The code for **auto encoder** is at the end of the jupyter notebook"
   ]
  },
  {
   "cell_type": "code",
   "execution_count": 2,
   "id": "3f0d784f-05c1-4c19-81d2-220f14870b9a",
   "metadata": {},
   "outputs": [
    {
     "name": "stdout",
     "output_type": "stream",
     "text": [
      "[False False False ... False False False]\n",
      "(2782, 1845)\n",
      "(2782, 301)\n"
     ]
    }
   ],
   "source": [
    "feature_path = Path(Path() / \"SedFeaturesnoNAN_nolimit\")\n",
    "features = np.load(Path(feature_path / \"numpy_features.npy\"))\n",
    "labels = np.load(Path(feature_path / \"numpy_labebels.npy\"))\n",
    "X_mean = np.load(Path(feature_path / \"features_mean.npy\")).astype(float)\n",
    "X_std = np.load(Path(feature_path / \"features_std.npy\")).astype(float)\n",
    "#lat_labels = np.load(Path(feature_path / \"numpy_latitudes_labels.npy\")).astype(np.float)\n",
    "#lon_labels = np.load(Path(feature_path / \"numpy_longitudes_labels.npy\")).astype(np.float)\n",
    "\n",
    "\n",
    "#Norm Features\n",
    "features = np.divide((features - X_mean),X_std)\n",
    "\n",
    "with open(Path(feature_path / \"sorted_features.txt\"), \"rb\") as fp:\n",
    "    feature_names = pickle.load(fp)\n",
    "\n",
    "\n",
    "prediction_limit = 5000\n",
    "\n",
    "# features = features[:,selection_filter]\n",
    "features = features[labels<prediction_limit,:] #take only TOC < 5% \n",
    "# lat_labels = lat_labels[labels<prediction_limit]\n",
    "# lon_labels = lon_labels[labels<prediction_limit]\n",
    "labels = labels[labels<prediction_limit]\n",
    "# labels[labels>prediction_limit] = prediction_limit\n",
    "\n",
    "#Drop features with NaNs\n",
    "nan_rows = np.isnan(features).any(axis=0)\n",
    "np.save(\"FeatureNanRows\",nan_rows)\n",
    "features = features[:,~nan_rows]\n",
    "print(nan_rows)\n",
    "\n",
    "\n",
    "\n",
    "# suffle features/labels\n",
    "shuffle_idx = np.random.mtrand.randint(low = 0, high = len(labels), size = len(labels))\n",
    "features = features[shuffle_idx,:]\n",
    "labels = labels[shuffle_idx]\n",
    "\n",
    "#features = encoded_features.numpy()\n",
    "print(features.shape)\n",
    "\n",
    "\n",
    "\n",
    "#taking the log of labels so that the order of maginitude between deep oceans and the coasts is reduced\n",
    "#loglabels=np.log10(labels)\n",
    "\n",
    "model = [None]*10\n",
    "MAE = []\n",
    "corrcoef = []\n",
    "kf = KFold(n_splits=10)\n",
    "mc_samples = 50\n"
   ]
  },
  {
   "cell_type": "code",
   "execution_count": null,
   "id": "46e943df-65ab-4516-a32a-2031ef0cea08",
   "metadata": {},
   "outputs": [],
   "source": [
    "\n",
    "# #PCA\n",
    "pca = PCA (0.995) #95% of the variance is retained\n",
    "pca.fit(features)\n",
    "features = pca.transform(features)\n",
    "print(features.shape)"
   ]
  },
  {
   "cell_type": "code",
   "execution_count": 3,
   "id": "043b26e0-d497-409b-bc7a-9d37ea7e5cab",
   "metadata": {},
   "outputs": [
    {
     "name": "stderr",
     "output_type": "stream",
     "text": [
      "2022-10-19 15:49:06.345492: I tensorflow/core/platform/cpu_feature_guard.cc:142] This TensorFlow binary is optimized with oneAPI Deep Neural Network Library (oneDNN) to use the following CPU instructions in performance-critical operations:  SSE4.1 SSE4.2 AVX AVX2 AVX512F FMA\n",
      "To enable them in other operations, rebuild TensorFlow with the appropriate compiler flags.\n",
      "2022-10-19 15:49:06.345662: I tensorflow/core/common_runtime/process_util.cc:146] Creating new thread pool with default inter op setting: 2. Tune using inter_op_parallelism_threads for best performance.\n"
     ]
    }
   ],
   "source": [
    "#features = encoded_features.numpy()\n",
    "#early stopping and LR-scheduling callbacks\n",
    "#checkpoint_cb = keras.callbacks.ModelCheckpoint('TOC_nn.h5', save_best_only = True)\n",
    "early_stopping_cb = keras.callbacks.EarlyStopping(monitor = \"loss\", patience = 200, restore_best_weights = True)\n",
    "lr_scheduler = keras.callbacks.ReduceLROnPlateau(monitor = \"loss\", factor = 0.8, patience = 40, min_lr = 0.000001)\n",
    "do_rate = 0.2\n",
    "num_nodes = 50\n",
    "    \n",
    "model_seed = keras.models.Sequential()\n",
    "model_seed.add(keras.layers.Dense(num_nodes, activation = \"relu\", kernel_initializer = \"he_normal\"))\n",
    "model_seed.add(keras.layers.BatchNormalization())\n",
    "#model_seed.add(keras.layers.Dropout(do_rate))\n",
    "model_seed.add(keras.layers.Dense(num_nodes, activation = \"relu\", kernel_initializer = \"he_normal\"))\n",
    "model_seed.add(keras.layers.BatchNormalization())\n",
    "#model_seed.add(keras.layers.Dropout(do_rate))\n",
    "model_seed.add(keras.layers.Dense(num_nodes, activation = \"relu\", kernel_initializer = \"he_normal\"))\n",
    "model_seed.add(keras.layers.BatchNormalization())\n",
    "#model_seed.add(keras.layers.Dropout(do_rate))\n",
    "model_seed.add(keras.layers.Dense(num_nodes, activation = \"relu\", kernel_initializer = \"he_normal\"))\n",
    "model_seed.add(keras.layers.BatchNormalization())\n",
    "#model_seed.add(keras.layers.Dropout(do_rate))\n",
    "model_seed.add(keras.layers.Dense(num_nodes, activation = \"relu\", kernel_initializer = \"he_normal\"))\n",
    "model_seed.add(keras.layers.BatchNormalization())\n",
    "#model_seed.add(keras.layers.Dropout(do_rate))\n",
    "model_seed.add(keras.layers.Dense(num_nodes, activation = \"relu\", kernel_initializer = \"he_normal\"))\n",
    "model_seed.add(keras.layers.BatchNormalization())\n",
    "#model_seed.add(keras.layers.Dropout(do_rate))\n",
    "\n",
    "\n",
    "\n",
    "\n",
    "model_seed.add(keras.layers.Dense(num_nodes, activation = \"relu\", kernel_initializer = \"he_normal\"))\n",
    "\n",
    "\n",
    "\n",
    "\n",
    "\n",
    "model_seed.add(keras.layers.Dense(1, activation = \"relu\"))\n",
    "\n",
    "model_seed.build([None,features.shape[1]])\n"
   ]
  },
  {
   "cell_type": "code",
   "execution_count": null,
   "id": "04538ab4-ade4-401c-8e5d-f1dcf136585e",
   "metadata": {
    "scrolled": true,
    "tags": []
   },
   "outputs": [],
   "source": [
    "\n",
    "#%%timeit -n 1 -r 1\n",
    "#fold = 0\n",
    "#for train, test in kf.split(features, labels): #startification/10fold\n",
    "features_train, features_test, labels_train, labels_test = train_test_split(features, labels, test_size=0.20, random_state=1)    \n",
    "#print(\"computing fold \" + str(fold+1))\n",
    "\n",
    "\n",
    "\n",
    "\n",
    "model = keras.models.clone_model(model_seed)\n",
    "model.set_weights(model_seed.get_weights())\n",
    "model.compile(loss = \"mean_absolute_error\",\n",
    "             optimizer = keras.optimizers.Nadam(learning_rate = 0.01),\n",
    "             metrics = [[\"RootMeanSquaredError\"]])\n",
    " \n",
    "#Final run with early stopping callback\n",
    "print(\"running main training round\")\n",
    " \n",
    " \n",
    "history = model.fit(features_train, labels_train,  epochs = 10000, batch_size= 70, \n",
    "                      callbacks = [ early_stopping_cb,lr_scheduler],verbose =2,validation_split=0.2)#\n",
    " "
   ]
  },
  {
   "cell_type": "code",
   "execution_count": 5,
   "id": "1390a82c-ff53-40ef-8c08-a539c377d464",
   "metadata": {
    "scrolled": true,
    "tags": []
   },
   "outputs": [
    {
     "name": "stdout",
     "output_type": "stream",
     "text": [
      "test MAE:[92.40137333960874]\n",
      "test correlation coeficient:[0.7396501054759339]\n",
      "     ----     \n"
     ]
    }
   ],
   "source": [
    "#MC Dropout\n",
    "probs_stack = np.stack([model(features_test,training = True) for sample in range(mc_samples)]) \n",
    "probs_stack = probs_stack.reshape([probs_stack.shape[0],probs_stack.shape[1]])\n",
    "np.savetxt(\"probs_stack_regression.txt\", probs_stack.T)\n",
    "np.savetxt(\"labels_test_regression.txt\", labels_test)\n",
    "predictions = tf.squeeze(probs_stack.mean(axis = 0))\n",
    "np.savetxt(\"predictions_regression.txt\", predictions)\n",
    "corrcoef.append(np.corrcoef(predictions, labels_test)[0,1])\n",
    "MAE.append(mean_absolute_error(labels_test,predictions))\n",
    " \n",
    "history_df = pd.DataFrame(history.history)#\n",
    "#print(history_df)\n",
    "#print(\"best val accuracy: \" + str(np.max(history_df.val_accuracy)))\n",
    "print(\"test MAE:\" + str(MAE))\n",
    "print(\"test correlation coeficient:\" + str(corrcoef))\n",
    "print(\"     ----     \")\n",
    "#fold = fold+1"
   ]
  },
  {
   "cell_type": "code",
   "execution_count": 68,
   "id": "873ada65-ee9d-4aa2-900b-e6b472dbe7c5",
   "metadata": {},
   "outputs": [
    {
     "data": {
      "text/plain": [
       "(2782, 75)"
      ]
     },
     "execution_count": 68,
     "metadata": {},
     "output_type": "execute_result"
    }
   ],
   "source": [
    "features.shape"
   ]
  },
  {
   "cell_type": "code",
   "execution_count": 69,
   "id": "68ad15b8-8fa0-4cf3-bddb-7e78e4af04f4",
   "metadata": {},
   "outputs": [
    {
     "name": "stdout",
     "output_type": "stream",
     "text": [
      "Correlation Coefficient: 0.5435806858197414\n",
      "MAE: 119.61127704994004\n",
      "0.6203907501130623\n",
      "(2782,)\n",
      "(557,)\n"
     ]
    },
    {
     "data": {
      "image/png": "[encoded data removed]",
      "text/plain": [
       "<Figure size 1296x360 with 3 Axes>"
      ]
     },
     "metadata": {
      "needs_background": "light"
     },
     "output_type": "display_data"
    },
    {
     "data": {
      "image/png": "[encoded data removed]",
      "text/plain": [
       "<Figure size 576x576 with 1 Axes>"
      ]
     },
     "metadata": {
      "needs_background": "light"
     },
     "output_type": "display_data"
    }
   ],
   "source": [
    "history_df = pd.DataFrame(history.history)\n",
    "plt.figure(figsize=[18,5])\n",
    "plt.subplot(131)\n",
    "plt.plot(history_df.root_mean_squared_error)\n",
    "plt.plot(history_df.val_root_mean_squared_error)\n",
    "plt.legend([\"training rmse\", \"validation rmse\"])\n",
    "#plt.ylim([100,4000])\n",
    "plt.subplot(132)\n",
    "plt.plot(history_df.loss)\n",
    "plt.plot(history_df.val_loss)\n",
    "plt.legend([\"training loss\", \"validation loss\"])\n",
    "#plt.ylim([20,400])\n",
    "plt.subplot(133)\n",
    "plt.plot(history_df.lr)\n",
    "plt.legend([\"learning rate\"])\n",
    "\n",
    "print(\"Correlation Coefficient: \"+str(np.sum(corrcoef)/len(corrcoef)))\n",
    "print(\"MAE: \" +str(np.sum(MAE)/len(MAE)))\n",
    "\n",
    "\n",
    "plt.figure(figsize=[8,8])\n",
    "#plt.clf()\n",
    "plt.scatter(predictions,labels_test)\n",
    "x = np.linspace(0,4000)\n",
    "plt.plot(x, x, 'r')\n",
    "plt.xlabel(\"Predicted (cm/ka)\")\n",
    "plt.ylabel(\"Observed (cm/ka)\")\n",
    "print(np.corrcoef(predictions,labels_test)[0,1])\n",
    "\n",
    "dirname = Path(\"Sed_regresion_083_RestrepoFeats_AllVS0.2_Test\")\n",
    "if not path.isdir(dirname):\n",
    "    makedirs(dirname)\n",
    " \n",
    "# for idx, model in enumerate(model):\n",
    "model_name = \"Model_nolimitnonan_Test\"  + \".h5\"\n",
    "model.save(Path(dirname / model_name))\n",
    "    \n",
    "print(labels.shape)\n",
    "print(labels_test.shape)\n",
    "\n",
    "\n"
   ]
  },
  {
   "cell_type": "markdown",
   "id": "39b04b9c-17ea-4d82-82d6-e5c261b31049",
   "metadata": {},
   "source": [
    "## Regression"
   ]
  },
  {
   "cell_type": "code",
   "execution_count": 70,
   "id": "a84087b5-45bd-4e3b-b543-b4e82a1b1173",
   "metadata": {
    "scrolled": true,
    "tags": []
   },
   "outputs": [],
   "source": [
    "#%%timeit -n 1 -r 1\n",
    "#fold = 0\n",
    "#for train, test in kf.split(features, labels): #startification/10fold\n",
    "features_train, features_test, labels_train, labels_test = train_test_split(features, labels, test_size=0.20, random_state=1)    \n",
    "#print(\"computing fold \" + str(fold+1))"
   ]
  },
  {
   "cell_type": "code",
   "execution_count": 71,
   "id": "8ba0df44-a64e-472d-9480-24321776d071",
   "metadata": {
    "scrolled": true,
    "tags": []
   },
   "outputs": [
    {
     "data": {
      "text/plain": [
       "(2782, 75)"
      ]
     },
     "execution_count": 71,
     "metadata": {},
     "output_type": "execute_result"
    }
   ],
   "source": [
    "from sklearn.linear_model import LinearRegression\n",
    "\n",
    "reg = LinearRegression().fit(features_train, labels_train)\n",
    "features.shape"
   ]
  },
  {
   "cell_type": "code",
   "execution_count": 72,
   "id": "d701fafb-8a7a-4bcd-8749-7b1874c62934",
   "metadata": {},
   "outputs": [
    {
     "name": "stdout",
     "output_type": "stream",
     "text": [
      "(557,)\n",
      "(557, 75)\n",
      "0.5416621066634344\n"
     ]
    },
    {
     "data": {
      "image/png": "[encoded data removed]",
      "text/plain": [
       "<Figure size 576x576 with 1 Axes>"
      ]
     },
     "metadata": {
      "needs_background": "light"
     },
     "output_type": "display_data"
    }
   ],
   "source": [
    "print(reg.predict(features_test).shape)\n",
    "print(features_test.shape)\n",
    "plt.figure(figsize=[8,8])\n",
    "plt.scatter(reg.predict(features_test), labels_test)\n",
    "plt.title(\"Regression\")\n",
    "plt.xlabel(\"Predicted test values\")\n",
    "plt.ylabel(\"True test values\")\n",
    "x = np.linspace(0,4000)\n",
    "plt.plot(x, x, 'r')\n",
    "print(np.corrcoef(reg.predict(features_test), labels_test)[0,1])"
   ]
  },
  {
   "cell_type": "markdown",
   "id": "a339ffab-f658-497b-ba95-9a07d5e8a55f",
   "metadata": {},
   "source": [
    "## Auto encoder"
   ]
  },
  {
   "cell_type": "code",
   "execution_count": 1,
   "id": "fd2f239a-2caf-48db-9474-0e2a7763d0d2",
   "metadata": {},
   "outputs": [],
   "source": [
    "import matplotlib.pyplot as plt\n",
    "import numpy as np\n",
    "import tensorflow as tf\n",
    "from tensorflow.keras.models import Model, Sequential\n",
    "from tensorflow.keras.layers import Dense\n",
    "import pandas as pd\n",
    "import random\n",
    "from sklearn.preprocessing import StandardScaler"
   ]
  },
  {
   "cell_type": "code",
   "execution_count": 7,
   "id": "dc2beca9-8d4b-4f06-8b5c-b91deb4b302e",
   "metadata": {},
   "outputs": [
    {
     "data": {
      "text/plain": [
       "(2782, 1845)"
      ]
     },
     "execution_count": 7,
     "metadata": {},
     "output_type": "execute_result"
    }
   ],
   "source": [
    "features.shape"
   ]
  },
  {
   "cell_type": "code",
   "execution_count": 60,
   "id": "8b036cf8-bc4a-4af7-a279-5dd675cbb30f",
   "metadata": {},
   "outputs": [],
   "source": [
    "# This is the dimension of the original space\n",
    "input_dim = features.shape[1]\n",
    "\n",
    "# This is the dimension of the latent space (encoding space)\n",
    "latent_dim = 75\n",
    "\n",
    "encoder = Sequential([\n",
    "    Dense(1000, activation='relu', input_shape=(input_dim,)),\n",
    "    Dense(500, activation='relu'),\n",
    "    Dense(250, activation='relu'),\n",
    "    Dense(100, activation='relu'),\n",
    "    Dense(latent_dim, activation='relu')\n",
    "])\n",
    "\n",
    "decoder = Sequential([\n",
    "    Dense(100, activation='relu', input_shape=(latent_dim,)),\n",
    "    Dense(250, activation='relu'),\n",
    "    Dense(500, activation='relu'),\n",
    "    Dense(1000, activation='relu'),\n",
    "    Dense(input_dim, activation=None)\n",
    "])"
   ]
  },
  {
   "cell_type": "code",
   "execution_count": 61,
   "id": "6ad7691a-e0f1-4078-8643-6ae5abd61bea",
   "metadata": {},
   "outputs": [],
   "source": [
    "autoencoder = Model(inputs=encoder.input, outputs=decoder(encoder.output))\n",
    "autoencoder.compile(loss='mse', optimizer='adam')"
   ]
  },
  {
   "cell_type": "code",
   "execution_count": null,
   "id": "3e7594e9-018d-43e2-bc38-99c6d2569f1c",
   "metadata": {
    "scrolled": true,
    "tags": []
   },
   "outputs": [],
   "source": [
    "model_history = autoencoder.fit(features, features, epochs=1000, batch_size=70, callbacks = [ early_stopping_cb,lr_scheduler],verbose =2)\n",
    "\n",
    "plt.plot(model_history.history[\"loss\"])\n",
    "plt.title(\"Loss vs. Epoch\")\n",
    "plt.ylabel(\"Loss\")\n",
    "plt.xlabel(\"Epoch\")\n",
    "plt.grid(True)"
   ]
  },
  {
   "cell_type": "code",
   "execution_count": 64,
   "id": "4b9e8199-ceae-4dc2-8759-3864a2f4f099",
   "metadata": {},
   "outputs": [
    {
     "data": {
      "text/plain": [
       "Text(0, 0.5, 'Latent Dimension 2')"
      ]
     },
     "execution_count": 64,
     "metadata": {},
     "output_type": "execute_result"
    },
    {
     "data": {
      "image/png": "[encoded data removed]",
      "text/plain": [
       "<Figure size 432x432 with 1 Axes>"
      ]
     },
     "metadata": {
      "needs_background": "light"
     },
     "output_type": "display_data"
    }
   ],
   "source": [
    "encoded_features = encoder(features)\n",
    "plt.figure(figsize=(6,6))\n",
    "plt.scatter(encoded_features[:, 44], encoded_features[:, 9], alpha=.5)\n",
    "plt.xlabel('Latent Dimension 1')\n",
    "plt.ylabel('Latent Dimension 2')"
   ]
  },
  {
   "cell_type": "code",
   "execution_count": 23,
   "id": "8bdabf2a-a585-41ed-9ce0-26a4ec76441a",
   "metadata": {},
   "outputs": [
    {
     "data": {
      "text/plain": [
       "66.98173444749557"
      ]
     },
     "execution_count": 23,
     "metadata": {},
     "output_type": "execute_result"
    }
   ],
   "source": [
    "np.linalg.norm(features - autoencoder(features).numpy())"
   ]
  }
 ],
 "metadata": {
  "kernelspec": {
   "display_name": "Python 3 (ipykernel)",
   "language": "python",
   "name": "python3"
  },
  "language_info": {
   "codemirror_mode": {
    "name": "ipython",
    "version": 3
   },
   "file_extension": ".py",
   "mimetype": "text/x-python",
   "name": "python",
   "nbconvert_exporter": "python",
   "pygments_lexer": "ipython3",
   "version": "3.9.12"
  }
 },
 "nbformat": 4,
 "nbformat_minor": 5
}
